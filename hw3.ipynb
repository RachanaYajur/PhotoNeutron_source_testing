{
  "nbformat": 4,
  "nbformat_minor": 0,
  "metadata": {
    "colab": {
      "name": "hw3.ipynb",
      "provenance": [],
      "collapsed_sections": [],
      "authorship_tag": "ABX9TyO8zLg6HxhzB07hRVm+IuwB",
      "include_colab_link": true
    },
    "kernelspec": {
      "name": "python3",
      "display_name": "Python 3"
    },
    "language_info": {
      "name": "python"
    }
  },
  "cells": [
    {
      "cell_type": "markdown",
      "metadata": {
        "id": "view-in-github",
        "colab_type": "text"
      },
      "source": [
        "<a href=\"https://colab.research.google.com/github/RachanaYajur/PhotoNeutron_source_testing/blob/master/hw3.ipynb\" target=\"_parent\"><img src=\"https://colab.research.google.com/assets/colab-badge.svg\" alt=\"Open In Colab\"/></a>"
      ]
    },
    {
      "cell_type": "markdown",
      "metadata": {
        "id": "qWNOg63OozCJ"
      },
      "source": [
        "# 2. Least Squares Fitting\n",
        "\n",
        "a) Generate many (~1000)“experiments”of 15 data points each where the data follows a straight line with some known Gaussian resolution function on the measurement of y, and a known value of x.  Pick reasonable values for m and b (the two parameters of your model for the line), and sigma (the Gaussian resolution of your experiment).(I picked 2, 6, and 2 respectively).  Show a plot of one of your experiments, with the error bars being +/-one-sigma errors."
      ]
    },
    {
      "cell_type": "code",
      "metadata": {
        "id": "So7TYSBgoCFg"
      },
      "source": [
        "import numpy as np\n",
        "import matplotlib.pyplot as plt\n",
        "import math\n",
        "import random\n",
        "\n",
        "def experiment():\n",
        "  m = 2.\n",
        "  b = 6.\n",
        "  sigma = 2.\n",
        "  N = 15\n",
        "  #choosing random x to lie in in the range [0,10]\n",
        "  listt = np.arange(0,15,1)\n",
        "  #print(listt)\n",
        "  #x = np.array(random.sample(listt,N))\n",
        "  #print(x)\n",
        "  x = listt\n",
        "  mu = m*x + b\n",
        "  data = []\n",
        "  for i in range(N):\n",
        "    data.append(np.random.normal(mu[i], sigma, 1)[0])\n",
        "  #print(data)\n",
        "  return(x,data) \n",
        "\n",
        "Nexp = 1000\n",
        "datas = []\n",
        "xs = []\n",
        "for i in range(Nexp):\n",
        "  x,d = experiment()\n",
        "  xs.append(x)\n",
        "  datas.append(d)"
      ],
      "execution_count": 1,
      "outputs": []
    },
    {
      "cell_type": "code",
      "metadata": {
        "colab": {
          "base_uri": "https://localhost:8080/",
          "height": 279
        },
        "id": "uRSLe0ePZq-r",
        "outputId": "4634cf03-1b04-4360-b6bb-76068ed22832"
      },
      "source": [
        "import itertools\n",
        "\n",
        "new_x, new_y = zip(*sorted(zip(xs[1], datas[1])))\n",
        "fig = plt.figure()\n",
        "plt.errorbar(new_x,new_y,yerr=2.,label=r'$\\sigma = 2.$ experiment # 2',marker='o',linestyle='none')\n",
        "plt.xlabel(\"X\")\n",
        "plt.ylabel(\"Y\")\n",
        "plt.legend()\n",
        "plt.show()"
      ],
      "execution_count": 2,
      "outputs": [
        {
          "output_type": "display_data",
          "data": {
            "image/png": "[encoded data removed]",
            "text/plain": [
              "<Figure size 432x288 with 1 Axes>"
            ]
          },
          "metadata": {
            "tags": [],
            "needs_background": "light"
          }
        }
      ]
    },
    {
      "cell_type": "markdown",
      "metadata": {
        "id": "t8KSqkPkpAyd"
      },
      "source": [
        "b) Fit the data for each experiment using a linear least squares fit (LLS)and show that over many experiments, the estimators for the slope and intercept are unbiased"
      ]
    },
    {
      "cell_type": "code",
      "metadata": {
        "id": "_3Hi2WuApE9o"
      },
      "source": [
        "from scipy.optimize import curve_fit\n",
        "\n",
        "def func(x,m,b):\n",
        "  return(m*x + b)\n",
        "\n",
        "x0 = np.array([0.0,0.0])\n",
        "sig = 2.*np.ones(15)\n",
        "\n",
        "ms = []\n",
        "bs = []\n",
        "\n",
        "for i in range(Nexp):  \n",
        "  popt, pcov = curve_fit(func, xs[i], datas[i],x0,sig)\n",
        "  ms.append(popt[0])\n",
        "  bs.append(popt[1])\n",
        "\n"
      ],
      "execution_count": 3,
      "outputs": []
    },
    {
      "cell_type": "code",
      "metadata": {
        "colab": {
          "base_uri": "https://localhost:8080/",
          "height": 541
        },
        "id": "hbm5Grzdhih_",
        "outputId": "81652507-c7c3-4388-ffc9-f446a0b70102"
      },
      "source": [
        "plt.errorbar(new_x,new_y,yerr=2.,label=r'$\\sigma = 2.$ experiment # 2',marker='o',linestyle='none')\n",
        "fy =[]\n",
        "for i in range(15):\n",
        "  fy.append(func(new_x[i],ms[1],bs[1]))\n",
        "plt.plot(new_x,fy,label='LLS fit')\n",
        "plt.xlabel(\"X\")\n",
        "plt.ylabel(\"Y\")\n",
        "plt.legend()\n",
        "plt.show()\n",
        "plt.hist(ms,label='slopes')\n",
        "plt.hist(bs,label='intercepts')\n",
        "plt.xlabel('experiment #')\n",
        "plt.legend()\n",
        "plt.show()"
      ],
      "execution_count": 4,
      "outputs": [
        {
          "output_type": "display_data",
          "data": {
            "image/png": "[encoded data removed]",
            "text/plain": [
              "<Figure size 432x288 with 1 Axes>"
            ]
          },
          "metadata": {
            "tags": [],
            "needs_background": "light"
          }
        },
        {
          "output_type": "display_data",
          "data": {
            "image/png": "[encoded data removed]",
            "text/plain": [
              "<Figure size 432x288 with 1 Axes>"
            ]
          },
          "metadata": {
            "tags": [],
            "needs_background": "light"
          }
        }
      ]
    },
    {
      "cell_type": "markdown",
      "metadata": {
        "id": "ncTAbmog93xc"
      },
      "source": [
        "Since the distribution of the slopes and the intercepts seem to follow a Gaussian distribution, the estimation of the parameters can be concluded to be unbiased. \n",
        "\n",
        "\n",
        "---\n",
        "\n"
      ]
    },
    {
      "cell_type": "markdown",
      "metadata": {
        "id": "ZD9Tdyg5pFf8"
      },
      "source": [
        "c) What is the expected distribution that the Chi2 values should follow(the functional form)?What is the value of the single parameter in this fit for the distribution of Chi2, and how does it relate to the number of data points per experiment you started with?Show that theChi2values follow the expected distribution.  Plot the reduced Chi2 and compare it to the expectation"
      ]
    },
    {
      "cell_type": "markdown",
      "metadata": {
        "id": "1nHOucbk8ozt"
      },
      "source": [
        "$\\chi^2(\\vec{\\theta}) = \\Sigma_{i=1}^N \\dfrac{(y_i-\\lambda_i(x_i;\\vec{\\theta}))^2}{\\sigma_i^2}$\n",
        "\n",
        "In this case, $\\vec{\\theta} = (m,b)$\n",
        "\n",
        "$\\chi^2(m,b) = \\Sigma_{i=1}^N \\dfrac{(y_i- (mx_i+b))^2}{\\sigma_i^2}$\n",
        "\n",
        "Given that $y_i$ was selected from a gaussian with a mean of $m x_i + b$, The distribution of the $\\chi^2$ function must be a poissonian\n"
      ]
    },
    {
      "cell_type": "code",
      "metadata": {
        "id": "aNbFRewOpI9s"
      },
      "source": [
        " def chi2(data,fit,sigma):\n",
        "   return((1/sigma**2)*sum((data-fit)**2))\n",
        "\n",
        "\n",
        "fit_ys = []\n",
        "for i in range(Nexp):\n",
        "  ys = np.dot(ms[i].T,xs[i]) + bs[i]\n",
        "  fit_ys.append(ys)\n",
        "\n",
        "chi2s = []\n",
        "for i in range(Nexp):\n",
        "  chi2s.append(chi2(np.array(datas[i]),np.array(fit_ys[i]),2))"
      ],
      "execution_count": 5,
      "outputs": []
    },
    {
      "cell_type": "code",
      "metadata": {
        "colab": {
          "base_uri": "https://localhost:8080/"
        },
        "id": "4Td1BYpvtkG6",
        "outputId": "7ea6e33b-9e75-4f04-f295-0d6718b17ba5"
      },
      "source": [
        "chi2s[1]"
      ],
      "execution_count": 6,
      "outputs": [
        {
          "output_type": "execute_result",
          "data": {
            "text/plain": [
              "7.424201158875747"
            ]
          },
          "metadata": {
            "tags": []
          },
          "execution_count": 6
        }
      ]
    },
    {
      "cell_type": "code",
      "metadata": {
        "colab": {
          "base_uri": "https://localhost:8080/",
          "height": 285
        },
        "id": "g3YfRbHltOs0",
        "outputId": "6ba8a5d7-485e-493a-845f-aabb6cadd1e9"
      },
      "source": [
        "degreeOfFreedom = 15. - 2.\n",
        "reducedChi2 = np.array(chi2s)/degreeOfFreedom\n",
        "plt.hist(reducedChi2)\n",
        "plt.xlabel(r'Reduced $\\chi^2$')\n",
        "plt.show()"
      ],
      "execution_count": 7,
      "outputs": [
        {
          "output_type": "display_data",
          "data": {
            "image/png": "[encoded data removed]",
            "text/plain": [
              "<Figure size 432x288 with 1 Axes>"
            ]
          },
          "metadata": {
            "tags": [],
            "needs_background": "light"
          }
        }
      ]
    },
    {
      "cell_type": "markdown",
      "metadata": {
        "id": "X7rEyh_9pJlI"
      },
      "source": [
        "d) Now add a quadratic term to the fit.  How do the Chi2values for the fit change? For how many of your experiments do you prefer a quadratic fit to a linear fit (i.e is Chi2 per degree of freedom better)?"
      ]
    },
    {
      "cell_type": "code",
      "metadata": {
        "id": "RgA2I5JZpNcA"
      },
      "source": [
        "def quadf(x,m,b,c):\n",
        "  return(m*x**2 + b*x +c)\n",
        "\n",
        "\n",
        "ms2 = []\n",
        "bs2 = []\n",
        "cs2 = []\n",
        "\n",
        "\n",
        "for i in range(Nexp):  \n",
        "  popt2, pcov2 = curve_fit(quadf, xs[i], datas[i],sigma=sig)\n",
        "  ms2.append(popt2[0])\n",
        "  bs2.append(popt2[1])\n",
        "  cs2.append(popt2[2])\n"
      ],
      "execution_count": 8,
      "outputs": []
    },
    {
      "cell_type": "code",
      "metadata": {
        "id": "7D3PWGHI_xsM"
      },
      "source": [
        "fit_ys_q = []\n",
        "for i in range(Nexp):\n",
        "  ys = np.dot(ms2[i].T,xs[i]**2) + np.dot(bs2[i].T,xs[i]) + cs2[i]\n",
        "  fit_ys_q.append(ys)\n",
        "\n",
        "chi2s_q = []\n",
        "for i in range(Nexp):\n",
        "  chi2s_q.append(chi2(np.array(datas[i]),np.array(fit_ys_q[i]),2))"
      ],
      "execution_count": 9,
      "outputs": []
    },
    {
      "cell_type": "code",
      "metadata": {
        "colab": {
          "base_uri": "https://localhost:8080/",
          "height": 285
        },
        "id": "xsZgo-1xASDt",
        "outputId": "cadb335c-e262-49d5-b6b8-92827046cb4d"
      },
      "source": [
        "degreeOfFreedom_q = 15. - 3.\n",
        "reducedChi2_q = np.array(chi2s_q)/degreeOfFreedom_q\n",
        "plt.hist(reducedChi2_q,histtype='step',label='Quadratic function')\n",
        "plt.hist(reducedChi2,histtype='step',label='Linear function')\n",
        "plt.xlabel(r'Reduced $\\chi^2$ ')\n",
        "plt.legend()\n",
        "plt.show()"
      ],
      "execution_count": 10,
      "outputs": [
        {
          "output_type": "display_data",
          "data": {
            "image/png": "[encoded data removed]",
            "text/plain": [
              "<Figure size 432x288 with 1 Axes>"
            ]
          },
          "metadata": {
            "tags": [],
            "needs_background": "light"
          }
        }
      ]
    },
    {
      "cell_type": "markdown",
      "metadata": {
        "id": "XVEq-t0-BYAi"
      },
      "source": [
        "From the above histogram we can notice that the reduced $\\chi^2 < 1$ is larger in case when there is a quadratic term. This implies that curve is 'overfitted' when a quadratic term is added to the fitting."
      ]
    },
    {
      "cell_type": "markdown",
      "metadata": {
        "id": "k7Fp8M6JpOMJ"
      },
      "source": [
        "e) Repeat, generating experiments where the data follows a quadratic functional and explore the differences in going from a linear to a quadratic fit to the data."
      ]
    },
    {
      "cell_type": "code",
      "metadata": {
        "id": "SnMCxkzYF2eS"
      },
      "source": [
        "def experiment_q():\n",
        "  m = 2.\n",
        "  b = 6.\n",
        "  c = 2\n",
        "  sigma = 2.\n",
        "  N = 15\n",
        "  #choosing random x to lie in in the range [0,10]\n",
        "  listt = np.arange(0,15,1)\n",
        "  #print(listt)\n",
        "  #x = np.array(random.sample(listt,N))\n",
        "  #print(x)\n",
        "  x = listt\n",
        "  mu = m*x**2 + b*x + c\n",
        "  data = []\n",
        "  for i in range(N):\n",
        "    data.append(np.random.normal(mu[i], sigma, 1)[0])\n",
        "  #print(data)\n",
        "  return(x,data) \n",
        "\n",
        "Nexp = 1000\n",
        "qdatas = []\n",
        "qxs = []\n",
        "for i in range(Nexp):\n",
        "  x,d = experiment_q()\n",
        "  qxs.append(x)\n",
        "  qdatas.append(d)\n",
        "\n"
      ],
      "execution_count": 11,
      "outputs": []
    },
    {
      "cell_type": "code",
      "metadata": {
        "id": "xZmsOd0RF5WZ"
      },
      "source": [
        "\n",
        "sig = 2.*np.ones(15)\n",
        "\n",
        "lqms = []\n",
        "lqbs = []\n",
        "\n",
        "for i in range(Nexp):  \n",
        "  popt, pcov = curve_fit(func, qxs[i], qdatas[i],sigma=sig)\n",
        "  lqms.append(popt[0])\n",
        "  lqbs.append(popt[1])\n",
        "\n",
        "lqfit_ys = []\n",
        "for i in range(Nexp):\n",
        "  ys = np.dot(lqms[i].T,qxs[i]) + lqbs[i]\n",
        "  lqfit_ys.append(ys)\n",
        "\n",
        "lqchi2s = []\n",
        "for i in range(Nexp):\n",
        "  lqchi2s.append(chi2(np.array(qdatas[i]),np.array(lqfit_ys[i]),2))"
      ],
      "execution_count": 12,
      "outputs": []
    },
    {
      "cell_type": "code",
      "metadata": {
        "colab": {
          "base_uri": "https://localhost:8080/",
          "height": 281
        },
        "id": "CkYVlaPpHf0g",
        "outputId": "b5948f3c-0cdb-43a2-822f-8b2c2e517e3c"
      },
      "source": [
        "qnew_x, qnew_y = zip(*sorted(zip(qxs[1], qdatas[1])))\n",
        "plt.errorbar(qnew_x,qnew_y,yerr=2.,label=r'$\\sigma = 2.$ experiment # 2',marker='o',linestyle='none')\n",
        "lqfy =[]\n",
        "for i in range(15):\n",
        "  lqfy.append(func(qnew_x[i],lqms[1],lqbs[1]))\n",
        "plt.plot(qnew_x,lqfy,label='LLS fit to linear function')\n",
        "plt.xlabel(\"X\")\n",
        "plt.ylabel(\"Y\")\n",
        "plt.legend()\n",
        "plt.show()"
      ],
      "execution_count": 13,
      "outputs": [
        {
          "output_type": "display_data",
          "data": {
            "image/png": "[encoded data removed]",
            "text/plain": [
              "<Figure size 432x288 with 1 Axes>"
            ]
          },
          "metadata": {
            "tags": [],
            "needs_background": "light"
          }
        }
      ]
    },
    {
      "cell_type": "code",
      "metadata": {
        "id": "vpfsgAw-pRGl"
      },
      "source": [
        "\n",
        "\n",
        "qqms = []\n",
        "qqbs = []\n",
        "qqcs = []\n",
        "\n",
        "for i in range(Nexp):  \n",
        "  popt, pcov = curve_fit(quadf, qxs[i], qdatas[i],sigma=sig)\n",
        "  qqms.append(popt[0])\n",
        "  qqbs.append(popt[1])\n",
        "  qqcs.append(popt[2])\n",
        "\n",
        "qqfit_ys = []\n",
        "for i in range(Nexp):\n",
        "  ys = np.dot(qqms[i].T,qxs[i]**2) + np.dot(qqbs[i].T,qxs[i]) + qqcs[i]\n",
        "  qqfit_ys.append(ys)\n",
        "\n",
        "qqchi2s = []\n",
        "for i in range(Nexp):\n",
        "  qqchi2s.append(chi2(np.array(qdatas[i]),np.array(qqfit_ys[i]),2))\n",
        "\n"
      ],
      "execution_count": 14,
      "outputs": []
    },
    {
      "cell_type": "code",
      "metadata": {
        "colab": {
          "base_uri": "https://localhost:8080/",
          "height": 282
        },
        "id": "OV1B9ck1H5V9",
        "outputId": "e0b9060d-ecbb-441b-c26f-6088a935dbf5"
      },
      "source": [
        "\n",
        "plt.errorbar(qnew_x,qnew_y,yerr=2.,label=r'$\\sigma = 2.$ experiment # 2',marker='o',linestyle='none')\n",
        "qqfy =[]\n",
        "for i in range(15):\n",
        "  qqfy.append(quadf(qnew_x[i],qqms[1],qqbs[1],qqcs[1]))\n",
        "plt.plot(qnew_x,qqfy,label='LLS fit to quadratic function')\n",
        "plt.xlabel(\"X\")\n",
        "plt.ylabel(\"Y\")\n",
        "plt.legend()\n",
        "plt.show()"
      ],
      "execution_count": 15,
      "outputs": [
        {
          "output_type": "display_data",
          "data": {
            "image/png": "[encoded data removed]",
            "text/plain": [
              "<Figure size 432x288 with 1 Axes>"
            ]
          },
          "metadata": {
            "tags": [],
            "needs_background": "light"
          }
        }
      ]
    },
    {
      "cell_type": "code",
      "metadata": {
        "colab": {
          "base_uri": "https://localhost:8080/",
          "height": 553
        },
        "id": "irFTQrxnIIkU",
        "outputId": "c4199821-b6d6-41ab-ed4c-39a80eec2966"
      },
      "source": [
        "plt.hist(np.array(qqchi2s)/(15.-3.),histtype='step',label='Quadratic function')\n",
        "#plt.hist(np.array(lqchi2s)/(15.-2.),histtype='step',label='Linear function')\n",
        "plt.xlabel(r'Reduced $\\chi^2$ ')\n",
        "plt.legend()\n",
        "plt.show()\n",
        "#plt.hist(np.array(qqchi2s)/(15.-3.),histtype='step',label='Quadratic function')\n",
        "plt.hist(np.array(lqchi2s)/(15.-2.),histtype='step',label='Linear function')\n",
        "plt.xlabel(r'Reduced $\\chi^2$ ')\n",
        "plt.legend()\n",
        "plt.show()"
      ],
      "execution_count": 16,
      "outputs": [
        {
          "output_type": "display_data",
          "data": {
            "image/png": "[encoded data removed]",
            "text/plain": [
              "<Figure size 432x288 with 1 Axes>"
            ]
          },
          "metadata": {
            "tags": [],
            "needs_background": "light"
          }
        },
        {
          "output_type": "display_data",
          "data": {
            "image/png": "[encoded data removed]",
            "text/plain": [
              "<Figure size 432x288 with 1 Axes>"
            ]
          },
          "metadata": {
            "tags": [],
            "needs_background": "light"
          }
        }
      ]
    },
    {
      "cell_type": "markdown",
      "metadata": {
        "id": "xCUW47T9Ikx6"
      },
      "source": [
        "This shows that the fit to a linear function is a poor model whereas fitting the data to a quadratic function gives a \"good\" fit. "
      ]
    },
    {
      "cell_type": "markdown",
      "metadata": {
        "id": "0N14bQHKpTE6"
      },
      "source": [
        "#3.  \n",
        "a) Generate experiments where the data follows an exponential decay law.  One wants to determine the best value for the decay time.  Show one example of samples drawn from this PDF, with y-axis error bars on each bin"
      ]
    },
    {
      "cell_type": "code",
      "metadata": {
        "id": "PT3INV0Rpbya"
      },
      "source": [
        " import random \n",
        "\n",
        " def expdecay(t,A,tau):\n",
        "   return(A*np.exp(-t/tau))\n",
        "\n",
        "tau = 1\n",
        "A = 10\n",
        "\n",
        "Nsample = 1000\n",
        "Nloop = 10000\n",
        "\n",
        "def sampling(Nsample):\n",
        "  tau = 1\n",
        "  A = 10\n",
        "  P = []\n",
        "  for i in range (0,Nloop):\n",
        "    x = random.random()*5\n",
        "    y = random.random()*A\n",
        "    p = expdecay(x,A,tau)\n",
        "    if y < p:\n",
        "      P.append(x)\n",
        "    if len(P) == Nsample:\n",
        "      break\n",
        "  return(P)\n",
        "\n",
        "exp_data = sampling(Nsample)\n",
        "xval = np.arange(0,5,0.1)\n",
        "yval = expdecay(xval,A,tau)\n"
      ],
      "execution_count": 17,
      "outputs": []
    },
    {
      "cell_type": "code",
      "metadata": {
        "colab": {
          "base_uri": "https://localhost:8080/",
          "height": 265
        },
        "id": "s3W2-DZAsxFr",
        "outputId": "c294ad59-5ae0-4168-d0fc-30f016affa8b"
      },
      "source": [
        "y, binEdges = np.histogram(exp_data,bins = 25)\n",
        "bincenters = 0.5*(binEdges[1:]+binEdges[:-1])\n",
        "menStd     = np.sqrt(y)\n",
        "width      = 0.2\n",
        "var = expdecay(bincenters,A,tau)\n",
        "#plt.plot(xval,yval)\n",
        "#plt.hist(b[:-1],b,weights=h)\n",
        "plt.bar(bincenters, y, width=width, color='r',yerr=menStd)\n",
        "plt.show()\n"
      ],
      "execution_count": 18,
      "outputs": [
        {
          "output_type": "display_data",
          "data": {
            "image/png": "[encoded data removed]",
            "text/plain": [
              "<Figure size 432x288 with 1 Axes>"
            ]
          },
          "metadata": {
            "tags": [],
            "needs_background": "light"
          }
        }
      ]
    },
    {
      "cell_type": "markdown",
      "metadata": {
        "id": "kKcYtK1-pcav"
      },
      "source": [
        "b) The ML estimate (see, e.g., Cowan chapter 7) is both unbiased and optimal (as is the straight mean of the decay times observed, assuming that one has equal efficiency for all possible decay times).  Here you should explore an estimator based upon least-squares using binned data.  Transform the problem into a linear one by taking the log of the pdf.  (Make sure you transform the \"sqrt(N)\" errors appropriately.)  Plot the histogram with error bars after the transformation"
      ]
    },
    {
      "cell_type": "code",
      "metadata": {
        "id": "4jLBBV8Wpgwa",
        "colab": {
          "base_uri": "https://localhost:8080/",
          "height": 387
        },
        "outputId": "dc5f50cf-e505-4627-ccbf-80c3d0c6f9a0"
      },
      "source": [
        "logy = np.log(y)\n",
        "logerr = np.log(y + np.sqrt(y)) - np.log(y)\n",
        "plt.errorbar(bincenters,logy,yerr=logerr,marker='o',linestyle='none')"
      ],
      "execution_count": 19,
      "outputs": [
        {
          "output_type": "stream",
          "text": [
            "/usr/local/lib/python3.7/dist-packages/ipykernel_launcher.py:1: RuntimeWarning: divide by zero encountered in log\n",
            "  \"\"\"Entry point for launching an IPython kernel.\n",
            "/usr/local/lib/python3.7/dist-packages/ipykernel_launcher.py:2: RuntimeWarning: divide by zero encountered in log\n",
            "  \n",
            "/usr/local/lib/python3.7/dist-packages/ipykernel_launcher.py:2: RuntimeWarning: invalid value encountered in subtract\n",
            "  \n"
          ],
          "name": "stderr"
        },
        {
          "output_type": "execute_result",
          "data": {
            "text/plain": [
              "<ErrorbarContainer object of 3 artists>"
            ]
          },
          "metadata": {
            "tags": []
          },
          "execution_count": 19
        },
        {
          "output_type": "display_data",
          "data": {
            "image/png": "[encoded data removed]",
            "text/plain": [
              "<Figure size 432x288 with 1 Axes>"
            ]
          },
          "metadata": {
            "tags": [],
            "needs_background": "light"
          }
        }
      ]
    },
    {
      "cell_type": "markdown",
      "metadata": {
        "id": "gFWEZ4XvphPA"
      },
      "source": [
        "c) Estimate the lifetime (tau) using a LLS fit.  Investigateany biases in your estimator for tau, particularly when you have small number of events in a bin (i.e. change the number of bins or number of samples you’ve generated per experiment and do your fit again)"
      ]
    },
    {
      "cell_type": "code",
      "metadata": {
        "id": "wwaZzsPEplNc",
        "colab": {
          "base_uri": "https://localhost:8080/",
          "height": 382
        },
        "outputId": "816bd5c9-78b5-4a07-f353-2806fe7f0fc9"
      },
      "source": [
        "poptexp, pcovexp = curve_fit(expdecay, bincenters, logy,sigma=logerr)\n",
        "fit_logs = poptexp[0]*np.exp(-bincenters/poptexp[1])\n",
        "print(tau)\n",
        "print(\"estimate of tau (bins=25) =\",poptexp[1])\n",
        "\n",
        "y, binEdges = np.histogram(exp_data,bins = 10)\n",
        "bincenters = 0.5*(binEdges[1:]+binEdges[:-1])\n",
        "logy = np.log(y)\n",
        "logerr = np.log(y + np.sqrt(y)) - np.log(y)\n",
        "poptexp, pcovexp = curve_fit(func, bincenters, logy,sigma=logerr)\n",
        "fit_logs = poptexp[0]*np.exp(-bincenters/poptexp[1])\n",
        "print(tau)\n",
        "print(\"estimate of tau (bins=10) =\",poptexp[1])"
      ],
      "execution_count": 21,
      "outputs": [
        {
          "output_type": "error",
          "ename": "ValueError",
          "evalue": "ignored",
          "traceback": [
            "\u001b[0;31m---------------------------------------------------------------------------\u001b[0m",
            "\u001b[0;31mValueError\u001b[0m                                Traceback (most recent call last)",
            "\u001b[0;32m<ipython-input-21-5ddbef714f03>\u001b[0m in \u001b[0;36m<module>\u001b[0;34m()\u001b[0m\n\u001b[0;32m----> 1\u001b[0;31m \u001b[0mpoptexp\u001b[0m\u001b[0;34m,\u001b[0m \u001b[0mpcovexp\u001b[0m \u001b[0;34m=\u001b[0m \u001b[0mcurve_fit\u001b[0m\u001b[0;34m(\u001b[0m\u001b[0mexpdecay\u001b[0m\u001b[0;34m,\u001b[0m \u001b[0mbincenters\u001b[0m\u001b[0;34m,\u001b[0m \u001b[0mlogy\u001b[0m\u001b[0;34m,\u001b[0m\u001b[0msigma\u001b[0m\u001b[0;34m=\u001b[0m\u001b[0mlogerr\u001b[0m\u001b[0;34m)\u001b[0m\u001b[0;34m\u001b[0m\u001b[0;34m\u001b[0m\u001b[0m\n\u001b[0m\u001b[1;32m      2\u001b[0m \u001b[0mfit_logs\u001b[0m \u001b[0;34m=\u001b[0m \u001b[0mpoptexp\u001b[0m\u001b[0;34m[\u001b[0m\u001b[0;36m0\u001b[0m\u001b[0;34m]\u001b[0m\u001b[0;34m*\u001b[0m\u001b[0mnp\u001b[0m\u001b[0;34m.\u001b[0m\u001b[0mexp\u001b[0m\u001b[0;34m(\u001b[0m\u001b[0;34m-\u001b[0m\u001b[0mbincenters\u001b[0m\u001b[0;34m/\u001b[0m\u001b[0mpoptexp\u001b[0m\u001b[0;34m[\u001b[0m\u001b[0;36m1\u001b[0m\u001b[0;34m]\u001b[0m\u001b[0;34m)\u001b[0m\u001b[0;34m\u001b[0m\u001b[0;34m\u001b[0m\u001b[0m\n\u001b[1;32m      3\u001b[0m \u001b[0mprint\u001b[0m\u001b[0;34m(\u001b[0m\u001b[0mtau\u001b[0m\u001b[0;34m)\u001b[0m\u001b[0;34m\u001b[0m\u001b[0;34m\u001b[0m\u001b[0m\n\u001b[1;32m      4\u001b[0m \u001b[0mprint\u001b[0m\u001b[0;34m(\u001b[0m\u001b[0;34m\"estimate of tau (bins=25) =\"\u001b[0m\u001b[0;34m,\u001b[0m\u001b[0mpoptexp\u001b[0m\u001b[0;34m[\u001b[0m\u001b[0;36m1\u001b[0m\u001b[0;34m]\u001b[0m\u001b[0;34m)\u001b[0m\u001b[0;34m\u001b[0m\u001b[0;34m\u001b[0m\u001b[0m\n\u001b[1;32m      5\u001b[0m \u001b[0;34m\u001b[0m\u001b[0m\n",
            "\u001b[0;32m/usr/local/lib/python3.7/dist-packages/scipy/optimize/minpack.py\u001b[0m in \u001b[0;36mcurve_fit\u001b[0;34m(f, xdata, ydata, p0, sigma, absolute_sigma, check_finite, bounds, method, jac, **kwargs)\u001b[0m\n\u001b[1;32m    711\u001b[0m     \u001b[0;31m# NaNs can not be handled\u001b[0m\u001b[0;34m\u001b[0m\u001b[0;34m\u001b[0m\u001b[0;34m\u001b[0m\u001b[0m\n\u001b[1;32m    712\u001b[0m     \u001b[0;32mif\u001b[0m \u001b[0mcheck_finite\u001b[0m\u001b[0;34m:\u001b[0m\u001b[0;34m\u001b[0m\u001b[0;34m\u001b[0m\u001b[0m\n\u001b[0;32m--> 713\u001b[0;31m         \u001b[0mydata\u001b[0m \u001b[0;34m=\u001b[0m \u001b[0mnp\u001b[0m\u001b[0;34m.\u001b[0m\u001b[0masarray_chkfinite\u001b[0m\u001b[0;34m(\u001b[0m\u001b[0mydata\u001b[0m\u001b[0;34m,\u001b[0m \u001b[0mfloat\u001b[0m\u001b[0;34m)\u001b[0m\u001b[0;34m\u001b[0m\u001b[0;34m\u001b[0m\u001b[0m\n\u001b[0m\u001b[1;32m    714\u001b[0m     \u001b[0;32melse\u001b[0m\u001b[0;34m:\u001b[0m\u001b[0;34m\u001b[0m\u001b[0;34m\u001b[0m\u001b[0m\n\u001b[1;32m    715\u001b[0m         \u001b[0mydata\u001b[0m \u001b[0;34m=\u001b[0m \u001b[0mnp\u001b[0m\u001b[0;34m.\u001b[0m\u001b[0masarray\u001b[0m\u001b[0;34m(\u001b[0m\u001b[0mydata\u001b[0m\u001b[0;34m,\u001b[0m \u001b[0mfloat\u001b[0m\u001b[0;34m)\u001b[0m\u001b[0;34m\u001b[0m\u001b[0;34m\u001b[0m\u001b[0m\n",
            "\u001b[0;32m/usr/local/lib/python3.7/dist-packages/numpy/lib/function_base.py\u001b[0m in \u001b[0;36masarray_chkfinite\u001b[0;34m(a, dtype, order)\u001b[0m\n\u001b[1;32m    484\u001b[0m     \u001b[0;32mif\u001b[0m \u001b[0ma\u001b[0m\u001b[0;34m.\u001b[0m\u001b[0mdtype\u001b[0m\u001b[0;34m.\u001b[0m\u001b[0mchar\u001b[0m \u001b[0;32min\u001b[0m \u001b[0mtypecodes\u001b[0m\u001b[0;34m[\u001b[0m\u001b[0;34m'AllFloat'\u001b[0m\u001b[0;34m]\u001b[0m \u001b[0;32mand\u001b[0m \u001b[0;32mnot\u001b[0m \u001b[0mnp\u001b[0m\u001b[0;34m.\u001b[0m\u001b[0misfinite\u001b[0m\u001b[0;34m(\u001b[0m\u001b[0ma\u001b[0m\u001b[0;34m)\u001b[0m\u001b[0;34m.\u001b[0m\u001b[0mall\u001b[0m\u001b[0;34m(\u001b[0m\u001b[0;34m)\u001b[0m\u001b[0;34m:\u001b[0m\u001b[0;34m\u001b[0m\u001b[0;34m\u001b[0m\u001b[0m\n\u001b[1;32m    485\u001b[0m         raise ValueError(\n\u001b[0;32m--> 486\u001b[0;31m             \"array must not contain infs or NaNs\")\n\u001b[0m\u001b[1;32m    487\u001b[0m     \u001b[0;32mreturn\u001b[0m \u001b[0ma\u001b[0m\u001b[0;34m\u001b[0m\u001b[0;34m\u001b[0m\u001b[0m\n\u001b[1;32m    488\u001b[0m \u001b[0;34m\u001b[0m\u001b[0m\n",
            "\u001b[0;31mValueError\u001b[0m: array must not contain infs or NaNs"
          ]
        }
      ]
    },
    {
      "cell_type": "markdown",
      "metadata": {
        "id": "wKmKa51A1Pbz"
      },
      "source": [
        "Due Thursday April 29.\n",
        "# 1.\n",
        " Read Cousins, “Why isn’t every physicist a Bayesian?” Answer the following questions from the paperwith just a sentence or some bullet points each.  This is just a check you read it.  We’ll discuss these questions in class on Thursday April 29.\n",
        " \n",
        " \n",
        " a) Section IV: What are some of the issues in incorporating a physical boundary into a confidence interval? (Note: this paper was written 4 years before Feldman-Cousins).\n",
        "\n",
        "\n",
        " \n",
        " b) Section V: What are the criteria for construction of a classical confidence interval?\n",
        " \n",
        " c) Section V: What are the criteria for the construction of a Bayesian confidence (credible) interval?\n",
        " \n",
        " d) Section V: What prior would Jeffreys suggest we use in the absence of any knowledge about the true value of our parameter, mu?  What is the reasoning behind this set of priors?\n",
        " \n",
        " e) What are some of the drawbacks of the classical vs. Bayesian methods forinterval construction?\n",
        " \n",
        " \n",
        "f) Section VI: How might you deal with a systematic Gaussian error on top of your Poisson process?"
      ]
    }
  ]
}